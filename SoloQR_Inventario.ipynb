{
  "cells": [
    {
      "cell_type": "markdown",
      "metadata": {
        "id": "view-in-github",
        "colab_type": "text"
      },
      "source": [
        "<a href=\"https://colab.research.google.com/github/robertojmoreno1/PrepcourseHenry23/blob/main/SoloQR_Inventario.ipynb\" target=\"_parent\"><img src=\"https://colab.research.google.com/assets/colab-badge.svg\" alt=\"Open In Colab\"/></a>"
      ]
    },
    {
      "cell_type": "markdown",
      "metadata": {
        "id": "tieMzfFdYKha"
      },
      "source": [
        "# Instalar Librerias"
      ]
    },
    {
      "cell_type": "code",
      "source": [
        "from datetime import datetime\n",
        "import datetime\n",
        "x = datetime.datetime.now()\n",
        "print(x.strftime(\"%A, %d de %B de %Y a las %H:%M:%S %p\"))\n",
        "from ipywidgets import widgets\n",
        "import os\n",
        "from IPython.display import display\n",
        "from IPython.display import HTML\n",
        "def button_depip(obj):\n",
        "  !apt-get -q -y update > /dev/null\n",
        "  !apt-get -y update > /dev/null\n",
        "  !pip install ipywidgets;\n",
        "  !jupyter nbextension enable --py widgetsnbextension;\n",
        "  !pip install -q pdfplumber;\n",
        "  !pip install -q docxtpl;\n",
        "  !pip install -q openpyxl;\n",
        "  !pip install -q Pillow;\n",
        "  !pip install -q pypng\n",
        "  !pip install -q Segno;\n",
        "  !pip install -q xlsxwriter;\n",
        "  !pip install -q rarfile;\n",
        "  !locale -a;\n",
        "  os.kill(os.getpid(), 9)\n",
        "btn1 = widgets.Button(description='INSTALAR !PIP')\n",
        "btn1.on_click(button_depip)\n",
        "display(btn1)  \n"
      ],
      "metadata": {
        "id": "KcejAoFPNLWu"
      },
      "execution_count": null,
      "outputs": []
    },
    {
      "cell_type": "markdown",
      "metadata": {
        "id": "xR79Soz9i80M"
      },
      "source": [
        "#IMPORTAR LIBRERIAS Y AUTORIZACION DE GDRIVE"
      ]
    },
    {
      "cell_type": "code",
      "execution_count": 1,
      "metadata": {
        "id": "kWt0c0wVrMSq"
      },
      "outputs": [],
      "source": [
        "from ipywidgets import widgets\n",
        "from IPython.display import display\n",
        "from docxtpl import DocxTemplate\n",
        "import pdfplumber\n",
        "import os\n",
        "import time\n",
        "import pandas as pd\n",
        "from google.colab import files\n",
        "import numpy as np\n",
        "from datetime import datetime\n",
        "import datetime\n",
        "from os import remove\n",
        "from os import path\n",
        "from itertools import count\n",
        "import png\n",
        "from PIL import Image\n",
        "import segno\n",
        "import shutil"
      ]
    },
    {
      "cell_type": "code",
      "source": [
        "from pydrive.auth import GoogleAuth\n",
        "from pydrive.drive import GoogleDrive"
      ],
      "metadata": {
        "id": "_bnUeYI4LLpE"
      },
      "execution_count": 2,
      "outputs": []
    },
    {
      "cell_type": "code",
      "source": [
        "from google.colab import drive\n",
        "drive.mount('/content/drive')"
      ],
      "metadata": {
        "colab": {
          "base_uri": "https://localhost:8080/"
        },
        "id": "I7YxyMYtRj8n",
        "outputId": "78ffc7f9-54d8-4fbe-aee8-b288fd7b014d"
      },
      "execution_count": 4,
      "outputs": [
        {
          "output_type": "stream",
          "name": "stdout",
          "text": [
            "Mounted at /content/drive\n"
          ]
        }
      ]
    },
    {
      "cell_type": "code",
      "source": [
        "from google.colab import auth\n",
        "auth.authenticate_user()\n",
        "\n",
        "import gspread\n",
        "from google.auth import default\n",
        "creds, _ = default()\n",
        "\n",
        "gc = gspread.authorize(creds)"
      ],
      "metadata": {
        "id": "MFL-8BqZIUDK"
      },
      "execution_count": 1,
      "outputs": []
    },
    {
      "cell_type": "code",
      "source": [
        "docacopiar = (r'/content/drive/MyDrive/00 contaduria/inventario/plantilla-alta-py.docx')\n",
        "docapegar = (r'/content/plantilla-alta-py.docx')\n",
        "shutil.copyfile(docacopiar, docapegar)\n",
        "docacopiar = (r'/content/drive/MyDrive/00 contaduria/inventario/plantilla-pub.pub')\n",
        "docapegar = (r'/content/03b - ETIQUETA .pub')\n",
        "shutil.copyfile(docacopiar, docapegar)"
      ],
      "metadata": {
        "colab": {
          "base_uri": "https://localhost:8080/",
          "height": 241
        },
        "id": "rpKimdfpImGS",
        "outputId": "7a2e62aa-3dab-4353-cba7-2c81fb878f12"
      },
      "execution_count": 5,
      "outputs": [
        {
          "output_type": "error",
          "ename": "NameError",
          "evalue": "ignored",
          "traceback": [
            "\u001b[0;31m---------------------------------------------------------------------------\u001b[0m",
            "\u001b[0;31mNameError\u001b[0m                                 Traceback (most recent call last)",
            "\u001b[0;32m<ipython-input-5-88848d1cc09b>\u001b[0m in \u001b[0;36m<cell line: 3>\u001b[0;34m()\u001b[0m\n\u001b[1;32m      1\u001b[0m \u001b[0mdocacopiar\u001b[0m \u001b[0;34m=\u001b[0m \u001b[0;34m(\u001b[0m\u001b[0;34mr'/content/drive/MyDrive/00 contaduria/inventario/plantilla-alta-py.docx'\u001b[0m\u001b[0;34m)\u001b[0m\u001b[0;34m\u001b[0m\u001b[0;34m\u001b[0m\u001b[0m\n\u001b[1;32m      2\u001b[0m \u001b[0mdocapegar\u001b[0m \u001b[0;34m=\u001b[0m \u001b[0;34m(\u001b[0m\u001b[0;34mr'/content/plantilla-alta-py.docx'\u001b[0m\u001b[0;34m)\u001b[0m\u001b[0;34m\u001b[0m\u001b[0;34m\u001b[0m\u001b[0m\n\u001b[0;32m----> 3\u001b[0;31m \u001b[0mshutil\u001b[0m\u001b[0;34m.\u001b[0m\u001b[0mcopyfile\u001b[0m\u001b[0;34m(\u001b[0m\u001b[0mdocacopiar\u001b[0m\u001b[0;34m,\u001b[0m \u001b[0mdocapegar\u001b[0m\u001b[0;34m)\u001b[0m\u001b[0;34m\u001b[0m\u001b[0;34m\u001b[0m\u001b[0m\n\u001b[0m\u001b[1;32m      4\u001b[0m \u001b[0mdocacopiar\u001b[0m \u001b[0;34m=\u001b[0m \u001b[0;34m(\u001b[0m\u001b[0;34mr'/content/drive/MyDrive/00 contaduria/inventario/plantilla-pub.pub'\u001b[0m\u001b[0;34m)\u001b[0m\u001b[0;34m\u001b[0m\u001b[0;34m\u001b[0m\u001b[0m\n\u001b[1;32m      5\u001b[0m \u001b[0mdocapegar\u001b[0m \u001b[0;34m=\u001b[0m \u001b[0;34m(\u001b[0m\u001b[0;34mr'/content/03b - ETIQUETA .pub'\u001b[0m\u001b[0;34m)\u001b[0m\u001b[0;34m\u001b[0m\u001b[0;34m\u001b[0m\u001b[0m\n",
            "\u001b[0;31mNameError\u001b[0m: name 'shutil' is not defined"
          ]
        }
      ]
    },
    {
      "cell_type": "markdown",
      "metadata": {
        "id": "ih2eHnFRH8uT"
      },
      "source": [
        "#`IDENTIFICACION DE TEXTOS`\n",
        "INSERTAR LOS SIGUIENTES PDF\n",
        "\n",
        "\n",
        "1.   CARATULA\n",
        "2.   MANDADO A PAGAR\n",
        "3.   VOLANTE DE INVENTARIO\n"
      ]
    },
    {
      "cell_type": "code",
      "source": [
        "import xlrd\n",
        "\n",
        "# Nombre del archivo .xls\n",
        "archivo_excel = 'tes.xls'\n",
        "\n",
        "# Abrir el archivo .xls\n",
        "book = xlrd.open_workbook(archivo_excel)\n",
        "\n",
        "# Obtener los nombres de las hojas\n",
        "hojas = book.sheet_names()\n",
        "\n",
        "# Imprimir los nombres de las hojas\n",
        "for hoja in hojas:\n",
        "    print(hoja)\n",
        "df = pd.read_excel('tes.xls', sheet_name=hoja)"
      ],
      "metadata": {
        "colab": {
          "base_uri": "https://localhost:8080/"
        },
        "id": "xYVV82De8_rL",
        "outputId": "f93a46d6-64bf-4e2f-fd7c-f8e8757c0847"
      },
      "execution_count": 16,
      "outputs": [
        {
          "output_type": "stream",
          "name": "stdout",
          "text": [
            "Sheet0\n"
          ]
        }
      ]
    },
    {
      "cell_type": "code",
      "source": [
        "nuevo_df = df.iloc[:, [5, 10]]"
      ],
      "metadata": {
        "id": "hejLzbZY9vIX"
      },
      "execution_count": 26,
      "outputs": []
    },
    {
      "cell_type": "code",
      "source": [
        "for index, row in nuevo_df.iterrows():\n",
        "    # Acceder a los valores de cada columna\n",
        "    cupi = row['C.U.P.I.']\n",
        "    descripcion = row['Descripción Insumo']\n",
        "    \n",
        "    # Crear el contenido del código QR concatenando los valores de las columnas\n",
        "    contenido = cupi\n",
        "    \n",
        "    # Generar el código QR utilizando la biblioteca segno\n",
        "    qr = segno.make(content=contenido, micro=False)\n",
        "    \n",
        "    # Guardar el código QR en un archivo con el nombre del C.U.P.I.\n",
        "    nombre_archivo = f\"{cupi}.png\"\n",
        "    qr.save(nombre_archivo, scale=10, border=0)\n"
      ],
      "metadata": {
        "id": "2KwLOqSW_YXb"
      },
      "execution_count": 30,
      "outputs": []
    },
    {
      "cell_type": "code",
      "source": [
        "folder_path = (r'/content/')\n",
        "testXX1 = os.listdir(folder_path)"
      ],
      "metadata": {
        "colab": {
          "base_uri": "https://localhost:8080/",
          "height": 133
        },
        "id": "ZTDb5dEhHsDi",
        "outputId": "4d174a42-d636-4859-9212-0fc9b3d1192e"
      },
      "execution_count": 33,
      "outputs": [
        {
          "output_type": "error",
          "ename": "IndentationError",
          "evalue": "ignored",
          "traceback": [
            "\u001b[0;36m  File \u001b[0;32m\"<ipython-input-33-a927881f96c1>\"\u001b[0;36m, line \u001b[0;32m9\u001b[0m\n\u001b[0;31m    except:\u001b[0m\n\u001b[0m    ^\u001b[0m\n\u001b[0;31mIndentationError\u001b[0m\u001b[0;31m:\u001b[0m expected an indented block after 'if' statement on line 8\n"
          ]
        }
      ]
    },
    {
      "cell_type": "code",
      "execution_count": 34,
      "metadata": {
        "colab": {
          "base_uri": "https://localhost:8080/",
          "height": 67,
          "referenced_widgets": [
            "c0740c69cda442299dc8c045ac310c52",
            "a8168aa7641247c6862abf1aa593cf88",
            "722761e9ab91447badc713506b08da86"
          ]
        },
        "id": "zjvjb-jrIGEC",
        "outputId": "e0a7883a-94c6-469c-e854-bd951eed0bf8"
      },
      "outputs": [
        {
          "output_type": "display_data",
          "data": {
            "text/plain": [
              "Button(description='BORRAR TODO', style=ButtonStyle())"
            ],
            "application/vnd.jupyter.widget-view+json": {
              "version_major": 2,
              "version_minor": 0,
              "model_id": "c0740c69cda442299dc8c045ac310c52"
            }
          },
          "metadata": {}
        },
        {
          "output_type": "stream",
          "name": "stdout",
          "text": [
            "ARCHIVOS BORRADOS\n"
          ]
        }
      ],
      "source": [
        "folder_path = (r'/content/')\n",
        "testXX1 = os.listdir(folder_path)\n",
        "btn = widgets.Button(description='BORRAR TODO')\n",
        "def button_eventhandler(obj):\n",
        "    print('ARCHIVOS BORRADOS'.format(obj.description))\n",
        "    try:\n",
        "      for todoslosarchivos in testXX1:\n",
        "        if todoslosarchivos.endswith(\".png\"):\n",
        "          os.remove(os.path.join(folder_path, todoslosarchivos))\n",
        "\n",
        "    except:\n",
        "      print('en ello')\n",
        "btn.on_click(button_eventhandler)\n",
        "display(btn)"
      ]
    },
    {
      "cell_type": "code",
      "execution_count": null,
      "metadata": {
        "id": "O922Bul90Nva"
      },
      "outputs": [],
      "source": [
        "  ruta = '/03b - CUPI '+cupis+'.png'\n",
        "  datosextraidos = [fecha,nombre_dep, num_dep, volante, ejercicio, expediente, num_fin,nomb_fin, acta_rec,fecha_rec, valor,insumo,descripcion,cupis,insumoabreviado, nexpediente,ruta]\n",
        "  qrcode = segno.make(cupis, micro=False)\n",
        "  qrcode.save('03b - CUPI '+cupis+'.png', scale=10, border=0)"
      ]
    },
    {
      "cell_type": "code",
      "execution_count": null,
      "metadata": {
        "id": "4zK36lrsyrkd"
      },
      "outputs": [],
      "source": [
        "elrenglon=0\n",
        "apassar= []\n",
        "while elrenglon<totalderenglones:\n",
        "  renglonete = listarenglon[elrenglon]\n",
        "  fecha = fechas()\n",
        "  ladependencia = buscasreglon(renglonete,'Depcia.: ','Insumo')\n",
        "  esladependencia = ladependencia.split(\" \", 1)\n",
        "  nombre_dep = esladependencia[1]\n",
        "  num_dep = esladependencia[0]\n",
        "  acta_rec = buscasreglon(renglonete,'Acta de recepción Nº: ',' Fecha de recepción:')\n",
        "  fecha_rec = buscasreglon(renglonete,'Fecha de recepción: ','Detalle:')\n",
        "  valor= \"$ \"+buscasreglon(listarenglon[0],'Valor: ', 'Estado')\n",
        "  insumo = buscasreglon(renglonete,'Insumo: ','Usuario: ')\n",
        "  descripcion = buscasreglon(renglonete,'Detalle: ',ultimapalabra(renglonete))\n",
        "  expediente = buscarexpediente()\n",
        "  nexpediente = '0'\n",
        "  nexpediente = buscarexpediente().split('-')[2]\n",
        "  ejercicio = ejericios()\n",
        "  volante = comprobantexs()\n",
        "  num_fin = financiamiento(0)\n",
        "  #num_fin = '0'\n",
        "  nomb_fin = financiamiento(1)\n",
        "  #nomb_fin = ' '\n",
        "  cupis = buscasreglon(renglonete, ' C.U.P.I.: ','Rubro')\n",
        "  insumoabreviado2 = insumo.split(' ',3)\n",
        "  insumoabreviado1 = insumoabreviado2[-1]\n",
        "  insumoabreviado0 = insumoabreviado1.split(' ')\n",
        "  insumoabreviado = insumoabreviado0[0]\n",
        "  insumoabreviado= insumoabreviado.upper()\n",
        "  ruta = '/03b - CUPI '+cupis+'.png'\n",
        "  datosextraidos = [fecha,nombre_dep, num_dep, volante, ejercicio, expediente, num_fin,nomb_fin, acta_rec,fecha_rec, valor,insumo,descripcion,cupis,insumoabreviado, nexpediente,ruta]\n",
        "  qrcode = segno.make(cupis, micro=False)\n",
        "  qrcode.save('03b - CUPI '+cupis+'.png', scale=10, border=0)\n",
        "  doc = DocxTemplate(\"plantilla-alta-py.docx\")\n",
        "  \n",
        "  context = { 'FECHA' : datosextraidos[0],\n",
        "             'nombre_dep': datosextraidos[1],\n",
        "             'num_dep': datosextraidos[2],\n",
        "             'volante': datosextraidos[3],\n",
        "             'EJERCICIO': datosextraidos[4],\n",
        "             'EXPEDIENTE': datosextraidos[5],\n",
        "             'num_fin': datosextraidos[6],\n",
        "             'nomb_fin': datosextraidos[7],\n",
        "             'acta_rec': datosextraidos[8],\n",
        "             'fecha_reco': datosextraidos[9],\n",
        "             'valor': datosextraidos[10],\n",
        "             'insumo': datosextraidos[11],\n",
        "             'DESCRIPCION': datosextraidos[12],\n",
        "             'insumoabreviado': datosextraidos[13],\n",
        "             'nexpediente': datosextraidos[14],\n",
        "             }\n",
        "  doc.render(context)\n",
        "  doc.save(\"02a - Formulario \"+cupis+\" .docx\")\n",
        "  files.download('03b - CUPI '+cupis+'.png')\n",
        "  files.download(\"02a - Formulario \"+cupis+\" .docx\")\n",
        "  time.sleep(0.5)\n",
        "  \n",
        "  apassar.append(datosextraidos)\n",
        "  elrenglon=elrenglon+1\n",
        "  \n",
        "df = pd.DataFrame(apassar, columns=datosaextraer, index=None)\n",
        "df_terminado = df.set_index('fecha')\n",
        "time.sleep(0.5)\n"
      ]
    },
    {
      "cell_type": "code",
      "execution_count": null,
      "metadata": {
        "id": "5hhlykptzZ07"
      },
      "outputs": [],
      "source": [
        "buscasreglon(renglonete,'Depcia.: ','Insumo')"
      ]
    },
    {
      "cell_type": "code",
      "execution_count": null,
      "metadata": {
        "id": "Ew3J2tFkjTOE"
      },
      "outputs": [],
      "source": [
        "print(datosaextraer[1], datosextraidos[1])"
      ]
    },
    {
      "cell_type": "code",
      "execution_count": null,
      "metadata": {
        "id": "fVjxLIiZJKIS"
      },
      "outputs": [],
      "source": [
        "df = pd.DataFrame(apassar, columns=datosaextraer, index=None)\n",
        "df_terminado = df.set_index('fecha')"
      ]
    },
    {
      "cell_type": "markdown",
      "metadata": {
        "id": "q3r2hWyNGJZx"
      },
      "source": [
        "# Tabla"
      ]
    },
    {
      "cell_type": "code",
      "execution_count": null,
      "metadata": {
        "id": "rHW0hTy_GJ2f"
      },
      "outputs": [],
      "source": [
        "df_terminado"
      ]
    },
    {
      "cell_type": "markdown",
      "metadata": {
        "id": "L_oLPXj5RhfC"
      },
      "source": [
        "# Generando Formularios\n",
        "```\n",
        "tpl = DocxTemplate('templates/horizontal_merge_tpl.docx')\n",
        "tpl.render({})\n",
        "tpl.save('output/horizontal_merge.docx')\n",
        "\n",
        "```\n",
        "\n"
      ]
    },
    {
      "cell_type": "code",
      "execution_count": null,
      "metadata": {
        "id": "kXtvfbukDdOE"
      },
      "outputs": [],
      "source": [
        "volante = comprobantexs()"
      ]
    },
    {
      "cell_type": "code",
      "execution_count": null,
      "metadata": {
        "id": "DyqckSSHJrev"
      },
      "outputs": [],
      "source": [
        "contenidoantescambio = os.listdir()"
      ]
    },
    {
      "cell_type": "markdown",
      "metadata": {
        "id": "2V_oCiCZLhza"
      },
      "source": [
        "# GUARDAR Y DESCARGAR"
      ]
    },
    {
      "cell_type": "markdown",
      "metadata": {
        "id": "w24N8NBLof01"
      },
      "source": [
        "# Nueva sección"
      ]
    },
    {
      "cell_type": "code",
      "execution_count": null,
      "metadata": {
        "id": "g4NGkVKqbwYZ"
      },
      "outputs": [],
      "source": [
        "textosarenombrar = [docinventario, docmandado, doccaratula]"
      ]
    },
    {
      "cell_type": "code",
      "execution_count": null,
      "metadata": {
        "id": "OEdCyswhTMaV"
      },
      "outputs": [],
      "source": [
        "docinventario"
      ]
    },
    {
      "cell_type": "code",
      "execution_count": null,
      "metadata": {
        "id": "WF3r-xIkw6Ki"
      },
      "outputs": [],
      "source": [
        "#https://docs.google.com/spreadsheets/d/1-9oIhXQiumP9IvA43dXiLkJgE6GGkjs3/edit?usp=sharing&ouid=111029696360618891911&rtpof=true&sd=true"
      ]
    },
    {
      "cell_type": "code",
      "execution_count": null,
      "metadata": {
        "id": "uFCc5HCYOxft"
      },
      "outputs": [],
      "source": [
        "#https://github.com/ifrankandrade/automation/tree/main/Word"
      ]
    },
    {
      "cell_type": "code",
      "execution_count": null,
      "metadata": {
        "id": "cLlo1lYCZlWf"
      },
      "outputs": [],
      "source": [
        "contenido = os.listdir()\n",
        "#contenido\n",
        "lostextosfinal = []\n",
        "allspng = []\n",
        "for fichero in contenido:\n",
        "    if fichero and fichero.endswith('.pdf'):\n",
        "       lostextosfinal.append(fichero)\n",
        "    elif fichero and fichero.endswith('.png'):\n",
        "      lostextosfinal.append(fichero)\n",
        "      allspng.append(fichero)\n",
        "    elif fichero and fichero.endswith('.xlsx'):\n",
        "      lostextosfinal.append(fichero)\n",
        "print(lostextosfinal)\n",
        "print(len(lostextosfinal))"
      ]
    },
    {
      "cell_type": "code",
      "execution_count": null,
      "metadata": {
        "id": "j1QpCs2YqkDM"
      },
      "outputs": [],
      "source": [
        "#terminadoexcel = df_terminado.to_excel('/content/drive/MyDrive/00 contaduria/inventario/formulario.xlsx')\n",
        "entemporario = df_terminado.to_excel(\"formulario \"+ volante +\".xlsx\")\n",
        "entemporario2 = df_terminado.to_excel(\"formulario.xlsx\")\n",
        "#terminadocsc = df_terminado.to_csv('/content/drive/MyDrive/00 contaduria/inventario/formulario.csv')\n",
        "try:\n",
        "  os.rename (docinventario, \"02b - VOL ALTA N \"+ volante +\".pdf\")\n",
        "  os.rename (docmandado, \"01c - Mandado a Pagar N \"+ volante +\".pdf\")\n",
        "  os.rename(doccaratula, \"01a - Caratula EE \"+nexpediente+\".pdf\")\n",
        "except:\n",
        "  print(\" algun documento no logrado\")"
      ]
    },
    {
      "cell_type": "code",
      "execution_count": null,
      "metadata": {
        "id": "NNYry4hHcFaP"
      },
      "outputs": [],
      "source": [
        "try:\n",
        "  os.rename(docinventario, \"02b - VOL ALTA N \"+ volante +\".pdf\")\n",
        "  os.rename(docmandado, \"01c - Mandado a Pagar N \"+ volante +\".pdf\")\n",
        "  os.rename(doccaratula, \"01a - Caratula EE \"+nexpediente+\".pdf\")\n",
        "except:\n",
        "  print(\" algun documento no logrado\")"
      ]
    },
    {
      "cell_type": "code",
      "execution_count": null,
      "metadata": {
        "id": "8yDCFKu_oAqj"
      },
      "outputs": [],
      "source": [
        "files.download(\"01c - Mandado a Pagar N \" + volante +\".pdf\")\n",
        "files.download(\"02b - VOL ALTA N \"+ volante +\".pdf\")\n",
        "files.download(\"01a - Caratula EE \"+ nexpediente +\".pdf\")\n",
        "files.download(\"formulario \"+ volante +\".xlsx\")\n",
        "files.download(\"formulario.xlsx\")\n",
        "files.download(\"03b - ETIQUETA .pub\")"
      ]
    },
    {
      "cell_type": "markdown",
      "metadata": {
        "id": "4JZAly4SoITc"
      },
      "source": [
        "# borrar archivos"
      ]
    },
    {
      "cell_type": "code",
      "execution_count": null,
      "metadata": {
        "id": "T8qcH8Jlnll8"
      },
      "outputs": [],
      "source": [
        "folder_path = (r'/content/')\n",
        "testXX1 = os.listdir(folder_path)\n",
        "btn = widgets.Button(description='BORRAR TODO')\n",
        "def button_eventhandler(obj):\n",
        "    print('ARCHIVOS BORRADOS'.format(obj.description))\n",
        "    try:\n",
        "      for todoslosarchivos in testXX1:\n",
        "        if todoslosarchivos.endswith(\".png\"):\n",
        "          os.remove(os.path.join(folder_path, todoslosarchivos))\n",
        "        if todoslosarchivos.endswith(\".pdf\"):\n",
        "          os.remove(os.path.join(folder_path, todoslosarchivos))\n",
        "        if todoslosarchivos.endswith(\".xlsx\"):\n",
        "          os.remove(os.path.join(folder_path, todoslosarchivos))\n",
        "        if todoslosarchivos.endswith(\".docx\"):\n",
        "          os.remove(os.path.join(folder_path, todoslosarchivos))\n",
        "        if todoslosarchivos.endswith(\".pub\"):\n",
        "          os.remove(os.path.join(folder_path, todoslosarchivos))\n",
        "    except:\n",
        "      print('en ello')\n",
        "btn.on_click(button_eventhandler)\n",
        "display(btn)"
      ]
    },
    {
      "cell_type": "code",
      "execution_count": null,
      "metadata": {
        "id": "7fM941FfM1MY"
      },
      "outputs": [],
      "source": [
        "#!zip -r /content/file.zip /content/Folder_To_Zip"
      ]
    },
    {
      "cell_type": "code",
      "execution_count": null,
      "metadata": {
        "id": "PmuKWsIoXNAP"
      },
      "outputs": [],
      "source": [
        "print(inv)"
      ]
    },
    {
      "cell_type": "code",
      "execution_count": null,
      "metadata": {
        "id": "Nlu7q9PtbSy2"
      },
      "outputs": [],
      "source": []
    },
    {
      "cell_type": "markdown",
      "metadata": {
        "id": "2fHglvs4cXIB"
      },
      "source": []
    }
  ],
  "metadata": {
    "colab": {
      "collapsed_sections": [
        "ih2eHnFRH8uT",
        "q3r2hWyNGJZx",
        "L_oLPXj5RhfC"
      ],
      "provenance": [],
      "mount_file_id": "14EmAWVlkC1lBoFA_14NY_XtIrWyg32vb",
      "authorship_tag": "ABX9TyMhIlz/WLZm4kMZ4plkVU1k",
      "include_colab_link": true
    },
    "kernelspec": {
      "display_name": "Python 3",
      "name": "python3"
    },
    "language_info": {
      "name": "python"
    },
    "widgets": {
      "application/vnd.jupyter.widget-state+json": {
        "c0740c69cda442299dc8c045ac310c52": {
          "model_module": "@jupyter-widgets/controls",
          "model_name": "ButtonModel",
          "model_module_version": "1.5.0",
          "state": {
            "_dom_classes": [],
            "_model_module": "@jupyter-widgets/controls",
            "_model_module_version": "1.5.0",
            "_model_name": "ButtonModel",
            "_view_count": null,
            "_view_module": "@jupyter-widgets/controls",
            "_view_module_version": "1.5.0",
            "_view_name": "ButtonView",
            "button_style": "",
            "description": "BORRAR TODO",
            "disabled": false,
            "icon": "",
            "layout": "IPY_MODEL_a8168aa7641247c6862abf1aa593cf88",
            "style": "IPY_MODEL_722761e9ab91447badc713506b08da86",
            "tooltip": ""
          }
        },
        "a8168aa7641247c6862abf1aa593cf88": {
          "model_module": "@jupyter-widgets/base",
          "model_name": "LayoutModel",
          "model_module_version": "1.2.0",
          "state": {
            "_model_module": "@jupyter-widgets/base",
            "_model_module_version": "1.2.0",
            "_model_name": "LayoutModel",
            "_view_count": null,
            "_view_module": "@jupyter-widgets/base",
            "_view_module_version": "1.2.0",
            "_view_name": "LayoutView",
            "align_content": null,
            "align_items": null,
            "align_self": null,
            "border": null,
            "bottom": null,
            "display": null,
            "flex": null,
            "flex_flow": null,
            "grid_area": null,
            "grid_auto_columns": null,
            "grid_auto_flow": null,
            "grid_auto_rows": null,
            "grid_column": null,
            "grid_gap": null,
            "grid_row": null,
            "grid_template_areas": null,
            "grid_template_columns": null,
            "grid_template_rows": null,
            "height": null,
            "justify_content": null,
            "justify_items": null,
            "left": null,
            "margin": null,
            "max_height": null,
            "max_width": null,
            "min_height": null,
            "min_width": null,
            "object_fit": null,
            "object_position": null,
            "order": null,
            "overflow": null,
            "overflow_x": null,
            "overflow_y": null,
            "padding": null,
            "right": null,
            "top": null,
            "visibility": null,
            "width": null
          }
        },
        "722761e9ab91447badc713506b08da86": {
          "model_module": "@jupyter-widgets/controls",
          "model_name": "ButtonStyleModel",
          "model_module_version": "1.5.0",
          "state": {
            "_model_module": "@jupyter-widgets/controls",
            "_model_module_version": "1.5.0",
            "_model_name": "ButtonStyleModel",
            "_view_count": null,
            "_view_module": "@jupyter-widgets/base",
            "_view_module_version": "1.2.0",
            "_view_name": "StyleView",
            "button_color": null,
            "font_weight": ""
          }
        }
      }
    }
  },
  "nbformat": 4,
  "nbformat_minor": 0
}